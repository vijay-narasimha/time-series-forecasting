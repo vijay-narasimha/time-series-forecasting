{
  "cells": [
    {
      "cell_type": "code",
      "execution_count": 120,
      "metadata": {
        "colab": {
          "base_uri": "https://localhost:8080/"
        },
        "id": "qrwmXnLICixC",
        "outputId": "aed48148-2804-4943-c925-89cda2c767af"
      },
      "outputs": [
        {
          "output_type": "stream",
          "name": "stdout",
          "text": [
            "Drive already mounted at /content/drive; to attempt to forcibly remount, call drive.mount(\"/content/drive\", force_remount=True).\n"
          ]
        }
      ],
      "source": [
        "from google.colab import drive\n",
        "drive.mount('/content/drive')"
      ]
    },
    {
      "cell_type": "code",
      "execution_count": 121,
      "metadata": {
        "id": "p_OXhbEhCppm"
      },
      "outputs": [],
      "source": [
        "import numpy as np\n",
        "import pandas as pd\n",
        "import matplotlib.pyplot as plt\n",
        "from sklearn.metrics import mean_squared_error \n",
        "import tensorflow as tf"
      ]
    },
    {
      "cell_type": "code",
      "execution_count": 122,
      "metadata": {
        "id": "rLsBv960Cui2"
      },
      "outputs": [],
      "source": [
        "holidaysdf = pd.read_csv('/content/drive/MyDrive/store-sales/holidays_events.csv')\n",
        "oildf = pd.read_csv('/content/drive/MyDrive/store-sales/oil.csv')\n",
        "storedf = pd.read_csv('/content/drive/MyDrive/store-sales/stores.csv')\n",
        "traindf = pd.read_csv('/content/drive/MyDrive/store-sales/train.csv')\n",
        "testdf = pd.read_csv('/content/drive/MyDrive/store-sales/test.csv')\n",
        "transactionsdf = pd.read_csv('/content/drive/MyDrive/store-sales/transactions.csv')\n"
      ]
    },
    {
      "cell_type": "code",
      "execution_count": 123,
      "metadata": {
        "colab": {
          "base_uri": "https://localhost:8080/",
          "height": 206
        },
        "id": "kIXIhsteDZdM",
        "outputId": "1f410e58-94ca-405e-8639-02a82f8233b6"
      },
      "outputs": [
        {
          "output_type": "execute_result",
          "data": {
            "text/plain": [
              "         date     type    locale locale_name                    description  \\\n",
              "0  2012-03-02  Holiday     Local       Manta             Fundacion de Manta   \n",
              "1  2012-04-01  Holiday  Regional    Cotopaxi  Provincializacion de Cotopaxi   \n",
              "2  2012-04-12  Holiday     Local      Cuenca            Fundacion de Cuenca   \n",
              "3  2012-04-14  Holiday     Local    Libertad      Cantonizacion de Libertad   \n",
              "4  2012-04-21  Holiday     Local    Riobamba      Cantonizacion de Riobamba   \n",
              "\n",
              "   transferred  \n",
              "0        False  \n",
              "1        False  \n",
              "2        False  \n",
              "3        False  \n",
              "4        False  "
            ],
            "text/html": [
              "\n",
              "  <div id=\"df-ef662f06-5efa-49e9-82e3-915f4facdac4\">\n",
              "    <div class=\"colab-df-container\">\n",
              "      <div>\n",
              "<style scoped>\n",
              "    .dataframe tbody tr th:only-of-type {\n",
              "        vertical-align: middle;\n",
              "    }\n",
              "\n",
              "    .dataframe tbody tr th {\n",
              "        vertical-align: top;\n",
              "    }\n",
              "\n",
              "    .dataframe thead th {\n",
              "        text-align: right;\n",
              "    }\n",
              "</style>\n",
              "<table border=\"1\" class=\"dataframe\">\n",
              "  <thead>\n",
              "    <tr style=\"text-align: right;\">\n",
              "      <th></th>\n",
              "      <th>date</th>\n",
              "      <th>type</th>\n",
              "      <th>locale</th>\n",
              "      <th>locale_name</th>\n",
              "      <th>description</th>\n",
              "      <th>transferred</th>\n",
              "    </tr>\n",
              "  </thead>\n",
              "  <tbody>\n",
              "    <tr>\n",
              "      <th>0</th>\n",
              "      <td>2012-03-02</td>\n",
              "      <td>Holiday</td>\n",
              "      <td>Local</td>\n",
              "      <td>Manta</td>\n",
              "      <td>Fundacion de Manta</td>\n",
              "      <td>False</td>\n",
              "    </tr>\n",
              "    <tr>\n",
              "      <th>1</th>\n",
              "      <td>2012-04-01</td>\n",
              "      <td>Holiday</td>\n",
              "      <td>Regional</td>\n",
              "      <td>Cotopaxi</td>\n",
              "      <td>Provincializacion de Cotopaxi</td>\n",
              "      <td>False</td>\n",
              "    </tr>\n",
              "    <tr>\n",
              "      <th>2</th>\n",
              "      <td>2012-04-12</td>\n",
              "      <td>Holiday</td>\n",
              "      <td>Local</td>\n",
              "      <td>Cuenca</td>\n",
              "      <td>Fundacion de Cuenca</td>\n",
              "      <td>False</td>\n",
              "    </tr>\n",
              "    <tr>\n",
              "      <th>3</th>\n",
              "      <td>2012-04-14</td>\n",
              "      <td>Holiday</td>\n",
              "      <td>Local</td>\n",
              "      <td>Libertad</td>\n",
              "      <td>Cantonizacion de Libertad</td>\n",
              "      <td>False</td>\n",
              "    </tr>\n",
              "    <tr>\n",
              "      <th>4</th>\n",
              "      <td>2012-04-21</td>\n",
              "      <td>Holiday</td>\n",
              "      <td>Local</td>\n",
              "      <td>Riobamba</td>\n",
              "      <td>Cantonizacion de Riobamba</td>\n",
              "      <td>False</td>\n",
              "    </tr>\n",
              "  </tbody>\n",
              "</table>\n",
              "</div>\n",
              "      <button class=\"colab-df-convert\" onclick=\"convertToInteractive('df-ef662f06-5efa-49e9-82e3-915f4facdac4')\"\n",
              "              title=\"Convert this dataframe to an interactive table.\"\n",
              "              style=\"display:none;\">\n",
              "        \n",
              "  <svg xmlns=\"http://www.w3.org/2000/svg\" height=\"24px\"viewBox=\"0 0 24 24\"\n",
              "       width=\"24px\">\n",
              "    <path d=\"M0 0h24v24H0V0z\" fill=\"none\"/>\n",
              "    <path d=\"M18.56 5.44l.94 2.06.94-2.06 2.06-.94-2.06-.94-.94-2.06-.94 2.06-2.06.94zm-11 1L8.5 8.5l.94-2.06 2.06-.94-2.06-.94L8.5 2.5l-.94 2.06-2.06.94zm10 10l.94 2.06.94-2.06 2.06-.94-2.06-.94-.94-2.06-.94 2.06-2.06.94z\"/><path d=\"M17.41 7.96l-1.37-1.37c-.4-.4-.92-.59-1.43-.59-.52 0-1.04.2-1.43.59L10.3 9.45l-7.72 7.72c-.78.78-.78 2.05 0 2.83L4 21.41c.39.39.9.59 1.41.59.51 0 1.02-.2 1.41-.59l7.78-7.78 2.81-2.81c.8-.78.8-2.07 0-2.86zM5.41 20L4 18.59l7.72-7.72 1.47 1.35L5.41 20z\"/>\n",
              "  </svg>\n",
              "      </button>\n",
              "      \n",
              "  <style>\n",
              "    .colab-df-container {\n",
              "      display:flex;\n",
              "      flex-wrap:wrap;\n",
              "      gap: 12px;\n",
              "    }\n",
              "\n",
              "    .colab-df-convert {\n",
              "      background-color: #E8F0FE;\n",
              "      border: none;\n",
              "      border-radius: 50%;\n",
              "      cursor: pointer;\n",
              "      display: none;\n",
              "      fill: #1967D2;\n",
              "      height: 32px;\n",
              "      padding: 0 0 0 0;\n",
              "      width: 32px;\n",
              "    }\n",
              "\n",
              "    .colab-df-convert:hover {\n",
              "      background-color: #E2EBFA;\n",
              "      box-shadow: 0px 1px 2px rgba(60, 64, 67, 0.3), 0px 1px 3px 1px rgba(60, 64, 67, 0.15);\n",
              "      fill: #174EA6;\n",
              "    }\n",
              "\n",
              "    [theme=dark] .colab-df-convert {\n",
              "      background-color: #3B4455;\n",
              "      fill: #D2E3FC;\n",
              "    }\n",
              "\n",
              "    [theme=dark] .colab-df-convert:hover {\n",
              "      background-color: #434B5C;\n",
              "      box-shadow: 0px 1px 3px 1px rgba(0, 0, 0, 0.15);\n",
              "      filter: drop-shadow(0px 1px 2px rgba(0, 0, 0, 0.3));\n",
              "      fill: #FFFFFF;\n",
              "    }\n",
              "  </style>\n",
              "\n",
              "      <script>\n",
              "        const buttonEl =\n",
              "          document.querySelector('#df-ef662f06-5efa-49e9-82e3-915f4facdac4 button.colab-df-convert');\n",
              "        buttonEl.style.display =\n",
              "          google.colab.kernel.accessAllowed ? 'block' : 'none';\n",
              "\n",
              "        async function convertToInteractive(key) {\n",
              "          const element = document.querySelector('#df-ef662f06-5efa-49e9-82e3-915f4facdac4');\n",
              "          const dataTable =\n",
              "            await google.colab.kernel.invokeFunction('convertToInteractive',\n",
              "                                                     [key], {});\n",
              "          if (!dataTable) return;\n",
              "\n",
              "          const docLinkHtml = 'Like what you see? Visit the ' +\n",
              "            '<a target=\"_blank\" href=https://colab.research.google.com/notebooks/data_table.ipynb>data table notebook</a>'\n",
              "            + ' to learn more about interactive tables.';\n",
              "          element.innerHTML = '';\n",
              "          dataTable['output_type'] = 'display_data';\n",
              "          await google.colab.output.renderOutput(dataTable, element);\n",
              "          const docLink = document.createElement('div');\n",
              "          docLink.innerHTML = docLinkHtml;\n",
              "          element.appendChild(docLink);\n",
              "        }\n",
              "      </script>\n",
              "    </div>\n",
              "  </div>\n",
              "  "
            ]
          },
          "metadata": {},
          "execution_count": 123
        }
      ],
      "source": [
        "holidaysdf.head()"
      ]
    },
    {
      "cell_type": "code",
      "execution_count": 124,
      "metadata": {
        "colab": {
          "base_uri": "https://localhost:8080/",
          "height": 206
        },
        "id": "2NI3tOpPDdEh",
        "outputId": "e79e6089-065f-42dc-879e-ce3c848815b6"
      },
      "outputs": [
        {
          "output_type": "execute_result",
          "data": {
            "text/plain": [
              "         date  dcoilwtico\n",
              "0  2013-01-01         NaN\n",
              "1  2013-01-02       93.14\n",
              "2  2013-01-03       92.97\n",
              "3  2013-01-04       93.12\n",
              "4  2013-01-07       93.20"
            ],
            "text/html": [
              "\n",
              "  <div id=\"df-51c53a2b-0c08-4e6f-88b8-b88f3e5a6c8b\">\n",
              "    <div class=\"colab-df-container\">\n",
              "      <div>\n",
              "<style scoped>\n",
              "    .dataframe tbody tr th:only-of-type {\n",
              "        vertical-align: middle;\n",
              "    }\n",
              "\n",
              "    .dataframe tbody tr th {\n",
              "        vertical-align: top;\n",
              "    }\n",
              "\n",
              "    .dataframe thead th {\n",
              "        text-align: right;\n",
              "    }\n",
              "</style>\n",
              "<table border=\"1\" class=\"dataframe\">\n",
              "  <thead>\n",
              "    <tr style=\"text-align: right;\">\n",
              "      <th></th>\n",
              "      <th>date</th>\n",
              "      <th>dcoilwtico</th>\n",
              "    </tr>\n",
              "  </thead>\n",
              "  <tbody>\n",
              "    <tr>\n",
              "      <th>0</th>\n",
              "      <td>2013-01-01</td>\n",
              "      <td>NaN</td>\n",
              "    </tr>\n",
              "    <tr>\n",
              "      <th>1</th>\n",
              "      <td>2013-01-02</td>\n",
              "      <td>93.14</td>\n",
              "    </tr>\n",
              "    <tr>\n",
              "      <th>2</th>\n",
              "      <td>2013-01-03</td>\n",
              "      <td>92.97</td>\n",
              "    </tr>\n",
              "    <tr>\n",
              "      <th>3</th>\n",
              "      <td>2013-01-04</td>\n",
              "      <td>93.12</td>\n",
              "    </tr>\n",
              "    <tr>\n",
              "      <th>4</th>\n",
              "      <td>2013-01-07</td>\n",
              "      <td>93.20</td>\n",
              "    </tr>\n",
              "  </tbody>\n",
              "</table>\n",
              "</div>\n",
              "      <button class=\"colab-df-convert\" onclick=\"convertToInteractive('df-51c53a2b-0c08-4e6f-88b8-b88f3e5a6c8b')\"\n",
              "              title=\"Convert this dataframe to an interactive table.\"\n",
              "              style=\"display:none;\">\n",
              "        \n",
              "  <svg xmlns=\"http://www.w3.org/2000/svg\" height=\"24px\"viewBox=\"0 0 24 24\"\n",
              "       width=\"24px\">\n",
              "    <path d=\"M0 0h24v24H0V0z\" fill=\"none\"/>\n",
              "    <path d=\"M18.56 5.44l.94 2.06.94-2.06 2.06-.94-2.06-.94-.94-2.06-.94 2.06-2.06.94zm-11 1L8.5 8.5l.94-2.06 2.06-.94-2.06-.94L8.5 2.5l-.94 2.06-2.06.94zm10 10l.94 2.06.94-2.06 2.06-.94-2.06-.94-.94-2.06-.94 2.06-2.06.94z\"/><path d=\"M17.41 7.96l-1.37-1.37c-.4-.4-.92-.59-1.43-.59-.52 0-1.04.2-1.43.59L10.3 9.45l-7.72 7.72c-.78.78-.78 2.05 0 2.83L4 21.41c.39.39.9.59 1.41.59.51 0 1.02-.2 1.41-.59l7.78-7.78 2.81-2.81c.8-.78.8-2.07 0-2.86zM5.41 20L4 18.59l7.72-7.72 1.47 1.35L5.41 20z\"/>\n",
              "  </svg>\n",
              "      </button>\n",
              "      \n",
              "  <style>\n",
              "    .colab-df-container {\n",
              "      display:flex;\n",
              "      flex-wrap:wrap;\n",
              "      gap: 12px;\n",
              "    }\n",
              "\n",
              "    .colab-df-convert {\n",
              "      background-color: #E8F0FE;\n",
              "      border: none;\n",
              "      border-radius: 50%;\n",
              "      cursor: pointer;\n",
              "      display: none;\n",
              "      fill: #1967D2;\n",
              "      height: 32px;\n",
              "      padding: 0 0 0 0;\n",
              "      width: 32px;\n",
              "    }\n",
              "\n",
              "    .colab-df-convert:hover {\n",
              "      background-color: #E2EBFA;\n",
              "      box-shadow: 0px 1px 2px rgba(60, 64, 67, 0.3), 0px 1px 3px 1px rgba(60, 64, 67, 0.15);\n",
              "      fill: #174EA6;\n",
              "    }\n",
              "\n",
              "    [theme=dark] .colab-df-convert {\n",
              "      background-color: #3B4455;\n",
              "      fill: #D2E3FC;\n",
              "    }\n",
              "\n",
              "    [theme=dark] .colab-df-convert:hover {\n",
              "      background-color: #434B5C;\n",
              "      box-shadow: 0px 1px 3px 1px rgba(0, 0, 0, 0.15);\n",
              "      filter: drop-shadow(0px 1px 2px rgba(0, 0, 0, 0.3));\n",
              "      fill: #FFFFFF;\n",
              "    }\n",
              "  </style>\n",
              "\n",
              "      <script>\n",
              "        const buttonEl =\n",
              "          document.querySelector('#df-51c53a2b-0c08-4e6f-88b8-b88f3e5a6c8b button.colab-df-convert');\n",
              "        buttonEl.style.display =\n",
              "          google.colab.kernel.accessAllowed ? 'block' : 'none';\n",
              "\n",
              "        async function convertToInteractive(key) {\n",
              "          const element = document.querySelector('#df-51c53a2b-0c08-4e6f-88b8-b88f3e5a6c8b');\n",
              "          const dataTable =\n",
              "            await google.colab.kernel.invokeFunction('convertToInteractive',\n",
              "                                                     [key], {});\n",
              "          if (!dataTable) return;\n",
              "\n",
              "          const docLinkHtml = 'Like what you see? Visit the ' +\n",
              "            '<a target=\"_blank\" href=https://colab.research.google.com/notebooks/data_table.ipynb>data table notebook</a>'\n",
              "            + ' to learn more about interactive tables.';\n",
              "          element.innerHTML = '';\n",
              "          dataTable['output_type'] = 'display_data';\n",
              "          await google.colab.output.renderOutput(dataTable, element);\n",
              "          const docLink = document.createElement('div');\n",
              "          docLink.innerHTML = docLinkHtml;\n",
              "          element.appendChild(docLink);\n",
              "        }\n",
              "      </script>\n",
              "    </div>\n",
              "  </div>\n",
              "  "
            ]
          },
          "metadata": {},
          "execution_count": 124
        }
      ],
      "source": [
        "oildf.head()"
      ]
    },
    {
      "cell_type": "code",
      "execution_count": 125,
      "metadata": {
        "colab": {
          "base_uri": "https://localhost:8080/",
          "height": 206
        },
        "id": "FJ5uPD1UDeyB",
        "outputId": "cf1abf24-ed16-4cc0-9707-d6899d4e0db9"
      },
      "outputs": [
        {
          "output_type": "execute_result",
          "data": {
            "text/plain": [
              "   store_nbr           city                           state type  cluster\n",
              "0          1          Quito                       Pichincha    D       13\n",
              "1          2          Quito                       Pichincha    D       13\n",
              "2          3          Quito                       Pichincha    D        8\n",
              "3          4          Quito                       Pichincha    D        9\n",
              "4          5  Santo Domingo  Santo Domingo de los Tsachilas    D        4"
            ],
            "text/html": [
              "\n",
              "  <div id=\"df-3d3b7b03-914d-4329-9a76-565646f5febc\">\n",
              "    <div class=\"colab-df-container\">\n",
              "      <div>\n",
              "<style scoped>\n",
              "    .dataframe tbody tr th:only-of-type {\n",
              "        vertical-align: middle;\n",
              "    }\n",
              "\n",
              "    .dataframe tbody tr th {\n",
              "        vertical-align: top;\n",
              "    }\n",
              "\n",
              "    .dataframe thead th {\n",
              "        text-align: right;\n",
              "    }\n",
              "</style>\n",
              "<table border=\"1\" class=\"dataframe\">\n",
              "  <thead>\n",
              "    <tr style=\"text-align: right;\">\n",
              "      <th></th>\n",
              "      <th>store_nbr</th>\n",
              "      <th>city</th>\n",
              "      <th>state</th>\n",
              "      <th>type</th>\n",
              "      <th>cluster</th>\n",
              "    </tr>\n",
              "  </thead>\n",
              "  <tbody>\n",
              "    <tr>\n",
              "      <th>0</th>\n",
              "      <td>1</td>\n",
              "      <td>Quito</td>\n",
              "      <td>Pichincha</td>\n",
              "      <td>D</td>\n",
              "      <td>13</td>\n",
              "    </tr>\n",
              "    <tr>\n",
              "      <th>1</th>\n",
              "      <td>2</td>\n",
              "      <td>Quito</td>\n",
              "      <td>Pichincha</td>\n",
              "      <td>D</td>\n",
              "      <td>13</td>\n",
              "    </tr>\n",
              "    <tr>\n",
              "      <th>2</th>\n",
              "      <td>3</td>\n",
              "      <td>Quito</td>\n",
              "      <td>Pichincha</td>\n",
              "      <td>D</td>\n",
              "      <td>8</td>\n",
              "    </tr>\n",
              "    <tr>\n",
              "      <th>3</th>\n",
              "      <td>4</td>\n",
              "      <td>Quito</td>\n",
              "      <td>Pichincha</td>\n",
              "      <td>D</td>\n",
              "      <td>9</td>\n",
              "    </tr>\n",
              "    <tr>\n",
              "      <th>4</th>\n",
              "      <td>5</td>\n",
              "      <td>Santo Domingo</td>\n",
              "      <td>Santo Domingo de los Tsachilas</td>\n",
              "      <td>D</td>\n",
              "      <td>4</td>\n",
              "    </tr>\n",
              "  </tbody>\n",
              "</table>\n",
              "</div>\n",
              "      <button class=\"colab-df-convert\" onclick=\"convertToInteractive('df-3d3b7b03-914d-4329-9a76-565646f5febc')\"\n",
              "              title=\"Convert this dataframe to an interactive table.\"\n",
              "              style=\"display:none;\">\n",
              "        \n",
              "  <svg xmlns=\"http://www.w3.org/2000/svg\" height=\"24px\"viewBox=\"0 0 24 24\"\n",
              "       width=\"24px\">\n",
              "    <path d=\"M0 0h24v24H0V0z\" fill=\"none\"/>\n",
              "    <path d=\"M18.56 5.44l.94 2.06.94-2.06 2.06-.94-2.06-.94-.94-2.06-.94 2.06-2.06.94zm-11 1L8.5 8.5l.94-2.06 2.06-.94-2.06-.94L8.5 2.5l-.94 2.06-2.06.94zm10 10l.94 2.06.94-2.06 2.06-.94-2.06-.94-.94-2.06-.94 2.06-2.06.94z\"/><path d=\"M17.41 7.96l-1.37-1.37c-.4-.4-.92-.59-1.43-.59-.52 0-1.04.2-1.43.59L10.3 9.45l-7.72 7.72c-.78.78-.78 2.05 0 2.83L4 21.41c.39.39.9.59 1.41.59.51 0 1.02-.2 1.41-.59l7.78-7.78 2.81-2.81c.8-.78.8-2.07 0-2.86zM5.41 20L4 18.59l7.72-7.72 1.47 1.35L5.41 20z\"/>\n",
              "  </svg>\n",
              "      </button>\n",
              "      \n",
              "  <style>\n",
              "    .colab-df-container {\n",
              "      display:flex;\n",
              "      flex-wrap:wrap;\n",
              "      gap: 12px;\n",
              "    }\n",
              "\n",
              "    .colab-df-convert {\n",
              "      background-color: #E8F0FE;\n",
              "      border: none;\n",
              "      border-radius: 50%;\n",
              "      cursor: pointer;\n",
              "      display: none;\n",
              "      fill: #1967D2;\n",
              "      height: 32px;\n",
              "      padding: 0 0 0 0;\n",
              "      width: 32px;\n",
              "    }\n",
              "\n",
              "    .colab-df-convert:hover {\n",
              "      background-color: #E2EBFA;\n",
              "      box-shadow: 0px 1px 2px rgba(60, 64, 67, 0.3), 0px 1px 3px 1px rgba(60, 64, 67, 0.15);\n",
              "      fill: #174EA6;\n",
              "    }\n",
              "\n",
              "    [theme=dark] .colab-df-convert {\n",
              "      background-color: #3B4455;\n",
              "      fill: #D2E3FC;\n",
              "    }\n",
              "\n",
              "    [theme=dark] .colab-df-convert:hover {\n",
              "      background-color: #434B5C;\n",
              "      box-shadow: 0px 1px 3px 1px rgba(0, 0, 0, 0.15);\n",
              "      filter: drop-shadow(0px 1px 2px rgba(0, 0, 0, 0.3));\n",
              "      fill: #FFFFFF;\n",
              "    }\n",
              "  </style>\n",
              "\n",
              "      <script>\n",
              "        const buttonEl =\n",
              "          document.querySelector('#df-3d3b7b03-914d-4329-9a76-565646f5febc button.colab-df-convert');\n",
              "        buttonEl.style.display =\n",
              "          google.colab.kernel.accessAllowed ? 'block' : 'none';\n",
              "\n",
              "        async function convertToInteractive(key) {\n",
              "          const element = document.querySelector('#df-3d3b7b03-914d-4329-9a76-565646f5febc');\n",
              "          const dataTable =\n",
              "            await google.colab.kernel.invokeFunction('convertToInteractive',\n",
              "                                                     [key], {});\n",
              "          if (!dataTable) return;\n",
              "\n",
              "          const docLinkHtml = 'Like what you see? Visit the ' +\n",
              "            '<a target=\"_blank\" href=https://colab.research.google.com/notebooks/data_table.ipynb>data table notebook</a>'\n",
              "            + ' to learn more about interactive tables.';\n",
              "          element.innerHTML = '';\n",
              "          dataTable['output_type'] = 'display_data';\n",
              "          await google.colab.output.renderOutput(dataTable, element);\n",
              "          const docLink = document.createElement('div');\n",
              "          docLink.innerHTML = docLinkHtml;\n",
              "          element.appendChild(docLink);\n",
              "        }\n",
              "      </script>\n",
              "    </div>\n",
              "  </div>\n",
              "  "
            ]
          },
          "metadata": {},
          "execution_count": 125
        }
      ],
      "source": [
        "storedf.head()"
      ]
    },
    {
      "cell_type": "code",
      "execution_count": 126,
      "metadata": {
        "colab": {
          "base_uri": "https://localhost:8080/",
          "height": 423
        },
        "id": "acHVEVjUDiHC",
        "outputId": "cb201cb9-1309-4117-ed15-056bb4d7fc2b"
      },
      "outputs": [
        {
          "output_type": "execute_result",
          "data": {
            "text/plain": [
              "              id        date  store_nbr            family  sales  onpromotion\n",
              "0              0  2013-01-01          1        AUTOMOTIVE    0.0            0\n",
              "1              1  2013-01-01          1         BABY CARE    0.0            0\n",
              "2              2  2013-01-01          1            BEAUTY    0.0            0\n",
              "3              3  2013-01-01          1         BEVERAGES    0.0            0\n",
              "4              4  2013-01-01          1             BOOKS    0.0            0\n",
              "...          ...         ...        ...               ...    ...          ...\n",
              "3000873  3000873  2017-08-15          9         HOME CARE  373.0            6\n",
              "3000874  3000874  2017-08-15          9        LADIESWEAR   10.0            0\n",
              "3000875  3000875  2017-08-15          9   LAWN AND GARDEN   11.0            3\n",
              "3000876  3000876  2017-08-15          9          LINGERIE    6.0            0\n",
              "3000877  3000877  2017-08-15          9  LIQUOR,WINE,BEER   25.0            2\n",
              "\n",
              "[3000878 rows x 6 columns]"
            ],
            "text/html": [
              "\n",
              "  <div id=\"df-a0973e14-ebf9-4cc7-804b-83d92c1b3e73\">\n",
              "    <div class=\"colab-df-container\">\n",
              "      <div>\n",
              "<style scoped>\n",
              "    .dataframe tbody tr th:only-of-type {\n",
              "        vertical-align: middle;\n",
              "    }\n",
              "\n",
              "    .dataframe tbody tr th {\n",
              "        vertical-align: top;\n",
              "    }\n",
              "\n",
              "    .dataframe thead th {\n",
              "        text-align: right;\n",
              "    }\n",
              "</style>\n",
              "<table border=\"1\" class=\"dataframe\">\n",
              "  <thead>\n",
              "    <tr style=\"text-align: right;\">\n",
              "      <th></th>\n",
              "      <th>id</th>\n",
              "      <th>date</th>\n",
              "      <th>store_nbr</th>\n",
              "      <th>family</th>\n",
              "      <th>sales</th>\n",
              "      <th>onpromotion</th>\n",
              "    </tr>\n",
              "  </thead>\n",
              "  <tbody>\n",
              "    <tr>\n",
              "      <th>0</th>\n",
              "      <td>0</td>\n",
              "      <td>2013-01-01</td>\n",
              "      <td>1</td>\n",
              "      <td>AUTOMOTIVE</td>\n",
              "      <td>0.0</td>\n",
              "      <td>0</td>\n",
              "    </tr>\n",
              "    <tr>\n",
              "      <th>1</th>\n",
              "      <td>1</td>\n",
              "      <td>2013-01-01</td>\n",
              "      <td>1</td>\n",
              "      <td>BABY CARE</td>\n",
              "      <td>0.0</td>\n",
              "      <td>0</td>\n",
              "    </tr>\n",
              "    <tr>\n",
              "      <th>2</th>\n",
              "      <td>2</td>\n",
              "      <td>2013-01-01</td>\n",
              "      <td>1</td>\n",
              "      <td>BEAUTY</td>\n",
              "      <td>0.0</td>\n",
              "      <td>0</td>\n",
              "    </tr>\n",
              "    <tr>\n",
              "      <th>3</th>\n",
              "      <td>3</td>\n",
              "      <td>2013-01-01</td>\n",
              "      <td>1</td>\n",
              "      <td>BEVERAGES</td>\n",
              "      <td>0.0</td>\n",
              "      <td>0</td>\n",
              "    </tr>\n",
              "    <tr>\n",
              "      <th>4</th>\n",
              "      <td>4</td>\n",
              "      <td>2013-01-01</td>\n",
              "      <td>1</td>\n",
              "      <td>BOOKS</td>\n",
              "      <td>0.0</td>\n",
              "      <td>0</td>\n",
              "    </tr>\n",
              "    <tr>\n",
              "      <th>...</th>\n",
              "      <td>...</td>\n",
              "      <td>...</td>\n",
              "      <td>...</td>\n",
              "      <td>...</td>\n",
              "      <td>...</td>\n",
              "      <td>...</td>\n",
              "    </tr>\n",
              "    <tr>\n",
              "      <th>3000873</th>\n",
              "      <td>3000873</td>\n",
              "      <td>2017-08-15</td>\n",
              "      <td>9</td>\n",
              "      <td>HOME CARE</td>\n",
              "      <td>373.0</td>\n",
              "      <td>6</td>\n",
              "    </tr>\n",
              "    <tr>\n",
              "      <th>3000874</th>\n",
              "      <td>3000874</td>\n",
              "      <td>2017-08-15</td>\n",
              "      <td>9</td>\n",
              "      <td>LADIESWEAR</td>\n",
              "      <td>10.0</td>\n",
              "      <td>0</td>\n",
              "    </tr>\n",
              "    <tr>\n",
              "      <th>3000875</th>\n",
              "      <td>3000875</td>\n",
              "      <td>2017-08-15</td>\n",
              "      <td>9</td>\n",
              "      <td>LAWN AND GARDEN</td>\n",
              "      <td>11.0</td>\n",
              "      <td>3</td>\n",
              "    </tr>\n",
              "    <tr>\n",
              "      <th>3000876</th>\n",
              "      <td>3000876</td>\n",
              "      <td>2017-08-15</td>\n",
              "      <td>9</td>\n",
              "      <td>LINGERIE</td>\n",
              "      <td>6.0</td>\n",
              "      <td>0</td>\n",
              "    </tr>\n",
              "    <tr>\n",
              "      <th>3000877</th>\n",
              "      <td>3000877</td>\n",
              "      <td>2017-08-15</td>\n",
              "      <td>9</td>\n",
              "      <td>LIQUOR,WINE,BEER</td>\n",
              "      <td>25.0</td>\n",
              "      <td>2</td>\n",
              "    </tr>\n",
              "  </tbody>\n",
              "</table>\n",
              "<p>3000878 rows × 6 columns</p>\n",
              "</div>\n",
              "      <button class=\"colab-df-convert\" onclick=\"convertToInteractive('df-a0973e14-ebf9-4cc7-804b-83d92c1b3e73')\"\n",
              "              title=\"Convert this dataframe to an interactive table.\"\n",
              "              style=\"display:none;\">\n",
              "        \n",
              "  <svg xmlns=\"http://www.w3.org/2000/svg\" height=\"24px\"viewBox=\"0 0 24 24\"\n",
              "       width=\"24px\">\n",
              "    <path d=\"M0 0h24v24H0V0z\" fill=\"none\"/>\n",
              "    <path d=\"M18.56 5.44l.94 2.06.94-2.06 2.06-.94-2.06-.94-.94-2.06-.94 2.06-2.06.94zm-11 1L8.5 8.5l.94-2.06 2.06-.94-2.06-.94L8.5 2.5l-.94 2.06-2.06.94zm10 10l.94 2.06.94-2.06 2.06-.94-2.06-.94-.94-2.06-.94 2.06-2.06.94z\"/><path d=\"M17.41 7.96l-1.37-1.37c-.4-.4-.92-.59-1.43-.59-.52 0-1.04.2-1.43.59L10.3 9.45l-7.72 7.72c-.78.78-.78 2.05 0 2.83L4 21.41c.39.39.9.59 1.41.59.51 0 1.02-.2 1.41-.59l7.78-7.78 2.81-2.81c.8-.78.8-2.07 0-2.86zM5.41 20L4 18.59l7.72-7.72 1.47 1.35L5.41 20z\"/>\n",
              "  </svg>\n",
              "      </button>\n",
              "      \n",
              "  <style>\n",
              "    .colab-df-container {\n",
              "      display:flex;\n",
              "      flex-wrap:wrap;\n",
              "      gap: 12px;\n",
              "    }\n",
              "\n",
              "    .colab-df-convert {\n",
              "      background-color: #E8F0FE;\n",
              "      border: none;\n",
              "      border-radius: 50%;\n",
              "      cursor: pointer;\n",
              "      display: none;\n",
              "      fill: #1967D2;\n",
              "      height: 32px;\n",
              "      padding: 0 0 0 0;\n",
              "      width: 32px;\n",
              "    }\n",
              "\n",
              "    .colab-df-convert:hover {\n",
              "      background-color: #E2EBFA;\n",
              "      box-shadow: 0px 1px 2px rgba(60, 64, 67, 0.3), 0px 1px 3px 1px rgba(60, 64, 67, 0.15);\n",
              "      fill: #174EA6;\n",
              "    }\n",
              "\n",
              "    [theme=dark] .colab-df-convert {\n",
              "      background-color: #3B4455;\n",
              "      fill: #D2E3FC;\n",
              "    }\n",
              "\n",
              "    [theme=dark] .colab-df-convert:hover {\n",
              "      background-color: #434B5C;\n",
              "      box-shadow: 0px 1px 3px 1px rgba(0, 0, 0, 0.15);\n",
              "      filter: drop-shadow(0px 1px 2px rgba(0, 0, 0, 0.3));\n",
              "      fill: #FFFFFF;\n",
              "    }\n",
              "  </style>\n",
              "\n",
              "      <script>\n",
              "        const buttonEl =\n",
              "          document.querySelector('#df-a0973e14-ebf9-4cc7-804b-83d92c1b3e73 button.colab-df-convert');\n",
              "        buttonEl.style.display =\n",
              "          google.colab.kernel.accessAllowed ? 'block' : 'none';\n",
              "\n",
              "        async function convertToInteractive(key) {\n",
              "          const element = document.querySelector('#df-a0973e14-ebf9-4cc7-804b-83d92c1b3e73');\n",
              "          const dataTable =\n",
              "            await google.colab.kernel.invokeFunction('convertToInteractive',\n",
              "                                                     [key], {});\n",
              "          if (!dataTable) return;\n",
              "\n",
              "          const docLinkHtml = 'Like what you see? Visit the ' +\n",
              "            '<a target=\"_blank\" href=https://colab.research.google.com/notebooks/data_table.ipynb>data table notebook</a>'\n",
              "            + ' to learn more about interactive tables.';\n",
              "          element.innerHTML = '';\n",
              "          dataTable['output_type'] = 'display_data';\n",
              "          await google.colab.output.renderOutput(dataTable, element);\n",
              "          const docLink = document.createElement('div');\n",
              "          docLink.innerHTML = docLinkHtml;\n",
              "          element.appendChild(docLink);\n",
              "        }\n",
              "      </script>\n",
              "    </div>\n",
              "  </div>\n",
              "  "
            ]
          },
          "metadata": {},
          "execution_count": 126
        }
      ],
      "source": [
        "traindf.head(-10)"
      ]
    },
    {
      "cell_type": "code",
      "execution_count": 127,
      "metadata": {
        "colab": {
          "base_uri": "https://localhost:8080/",
          "height": 206
        },
        "id": "41ztnHFTDj6t",
        "outputId": "2df3cd68-f60c-4d37-f663-d97f35b20582"
      },
      "outputs": [
        {
          "output_type": "execute_result",
          "data": {
            "text/plain": [
              "        id        date  store_nbr      family  onpromotion\n",
              "0  3000888  2017-08-16          1  AUTOMOTIVE            0\n",
              "1  3000889  2017-08-16          1   BABY CARE            0\n",
              "2  3000890  2017-08-16          1      BEAUTY            2\n",
              "3  3000891  2017-08-16          1   BEVERAGES           20\n",
              "4  3000892  2017-08-16          1       BOOKS            0"
            ],
            "text/html": [
              "\n",
              "  <div id=\"df-7b4634fe-c857-4cc1-b66f-a465ec68517f\">\n",
              "    <div class=\"colab-df-container\">\n",
              "      <div>\n",
              "<style scoped>\n",
              "    .dataframe tbody tr th:only-of-type {\n",
              "        vertical-align: middle;\n",
              "    }\n",
              "\n",
              "    .dataframe tbody tr th {\n",
              "        vertical-align: top;\n",
              "    }\n",
              "\n",
              "    .dataframe thead th {\n",
              "        text-align: right;\n",
              "    }\n",
              "</style>\n",
              "<table border=\"1\" class=\"dataframe\">\n",
              "  <thead>\n",
              "    <tr style=\"text-align: right;\">\n",
              "      <th></th>\n",
              "      <th>id</th>\n",
              "      <th>date</th>\n",
              "      <th>store_nbr</th>\n",
              "      <th>family</th>\n",
              "      <th>onpromotion</th>\n",
              "    </tr>\n",
              "  </thead>\n",
              "  <tbody>\n",
              "    <tr>\n",
              "      <th>0</th>\n",
              "      <td>3000888</td>\n",
              "      <td>2017-08-16</td>\n",
              "      <td>1</td>\n",
              "      <td>AUTOMOTIVE</td>\n",
              "      <td>0</td>\n",
              "    </tr>\n",
              "    <tr>\n",
              "      <th>1</th>\n",
              "      <td>3000889</td>\n",
              "      <td>2017-08-16</td>\n",
              "      <td>1</td>\n",
              "      <td>BABY CARE</td>\n",
              "      <td>0</td>\n",
              "    </tr>\n",
              "    <tr>\n",
              "      <th>2</th>\n",
              "      <td>3000890</td>\n",
              "      <td>2017-08-16</td>\n",
              "      <td>1</td>\n",
              "      <td>BEAUTY</td>\n",
              "      <td>2</td>\n",
              "    </tr>\n",
              "    <tr>\n",
              "      <th>3</th>\n",
              "      <td>3000891</td>\n",
              "      <td>2017-08-16</td>\n",
              "      <td>1</td>\n",
              "      <td>BEVERAGES</td>\n",
              "      <td>20</td>\n",
              "    </tr>\n",
              "    <tr>\n",
              "      <th>4</th>\n",
              "      <td>3000892</td>\n",
              "      <td>2017-08-16</td>\n",
              "      <td>1</td>\n",
              "      <td>BOOKS</td>\n",
              "      <td>0</td>\n",
              "    </tr>\n",
              "  </tbody>\n",
              "</table>\n",
              "</div>\n",
              "      <button class=\"colab-df-convert\" onclick=\"convertToInteractive('df-7b4634fe-c857-4cc1-b66f-a465ec68517f')\"\n",
              "              title=\"Convert this dataframe to an interactive table.\"\n",
              "              style=\"display:none;\">\n",
              "        \n",
              "  <svg xmlns=\"http://www.w3.org/2000/svg\" height=\"24px\"viewBox=\"0 0 24 24\"\n",
              "       width=\"24px\">\n",
              "    <path d=\"M0 0h24v24H0V0z\" fill=\"none\"/>\n",
              "    <path d=\"M18.56 5.44l.94 2.06.94-2.06 2.06-.94-2.06-.94-.94-2.06-.94 2.06-2.06.94zm-11 1L8.5 8.5l.94-2.06 2.06-.94-2.06-.94L8.5 2.5l-.94 2.06-2.06.94zm10 10l.94 2.06.94-2.06 2.06-.94-2.06-.94-.94-2.06-.94 2.06-2.06.94z\"/><path d=\"M17.41 7.96l-1.37-1.37c-.4-.4-.92-.59-1.43-.59-.52 0-1.04.2-1.43.59L10.3 9.45l-7.72 7.72c-.78.78-.78 2.05 0 2.83L4 21.41c.39.39.9.59 1.41.59.51 0 1.02-.2 1.41-.59l7.78-7.78 2.81-2.81c.8-.78.8-2.07 0-2.86zM5.41 20L4 18.59l7.72-7.72 1.47 1.35L5.41 20z\"/>\n",
              "  </svg>\n",
              "      </button>\n",
              "      \n",
              "  <style>\n",
              "    .colab-df-container {\n",
              "      display:flex;\n",
              "      flex-wrap:wrap;\n",
              "      gap: 12px;\n",
              "    }\n",
              "\n",
              "    .colab-df-convert {\n",
              "      background-color: #E8F0FE;\n",
              "      border: none;\n",
              "      border-radius: 50%;\n",
              "      cursor: pointer;\n",
              "      display: none;\n",
              "      fill: #1967D2;\n",
              "      height: 32px;\n",
              "      padding: 0 0 0 0;\n",
              "      width: 32px;\n",
              "    }\n",
              "\n",
              "    .colab-df-convert:hover {\n",
              "      background-color: #E2EBFA;\n",
              "      box-shadow: 0px 1px 2px rgba(60, 64, 67, 0.3), 0px 1px 3px 1px rgba(60, 64, 67, 0.15);\n",
              "      fill: #174EA6;\n",
              "    }\n",
              "\n",
              "    [theme=dark] .colab-df-convert {\n",
              "      background-color: #3B4455;\n",
              "      fill: #D2E3FC;\n",
              "    }\n",
              "\n",
              "    [theme=dark] .colab-df-convert:hover {\n",
              "      background-color: #434B5C;\n",
              "      box-shadow: 0px 1px 3px 1px rgba(0, 0, 0, 0.15);\n",
              "      filter: drop-shadow(0px 1px 2px rgba(0, 0, 0, 0.3));\n",
              "      fill: #FFFFFF;\n",
              "    }\n",
              "  </style>\n",
              "\n",
              "      <script>\n",
              "        const buttonEl =\n",
              "          document.querySelector('#df-7b4634fe-c857-4cc1-b66f-a465ec68517f button.colab-df-convert');\n",
              "        buttonEl.style.display =\n",
              "          google.colab.kernel.accessAllowed ? 'block' : 'none';\n",
              "\n",
              "        async function convertToInteractive(key) {\n",
              "          const element = document.querySelector('#df-7b4634fe-c857-4cc1-b66f-a465ec68517f');\n",
              "          const dataTable =\n",
              "            await google.colab.kernel.invokeFunction('convertToInteractive',\n",
              "                                                     [key], {});\n",
              "          if (!dataTable) return;\n",
              "\n",
              "          const docLinkHtml = 'Like what you see? Visit the ' +\n",
              "            '<a target=\"_blank\" href=https://colab.research.google.com/notebooks/data_table.ipynb>data table notebook</a>'\n",
              "            + ' to learn more about interactive tables.';\n",
              "          element.innerHTML = '';\n",
              "          dataTable['output_type'] = 'display_data';\n",
              "          await google.colab.output.renderOutput(dataTable, element);\n",
              "          const docLink = document.createElement('div');\n",
              "          docLink.innerHTML = docLinkHtml;\n",
              "          element.appendChild(docLink);\n",
              "        }\n",
              "      </script>\n",
              "    </div>\n",
              "  </div>\n",
              "  "
            ]
          },
          "metadata": {},
          "execution_count": 127
        }
      ],
      "source": [
        "testdf.head()"
      ]
    },
    {
      "cell_type": "code",
      "execution_count": 128,
      "metadata": {
        "colab": {
          "base_uri": "https://localhost:8080/",
          "height": 206
        },
        "id": "m2y5i1fFDlfh",
        "outputId": "9f795667-bb11-4cb9-f463-8f50cec1fb8f"
      },
      "outputs": [
        {
          "output_type": "execute_result",
          "data": {
            "text/plain": [
              "         date  store_nbr  transactions\n",
              "0  2013-01-01         25           770\n",
              "1  2013-01-02          1          2111\n",
              "2  2013-01-02          2          2358\n",
              "3  2013-01-02          3          3487\n",
              "4  2013-01-02          4          1922"
            ],
            "text/html": [
              "\n",
              "  <div id=\"df-d4605ce2-e849-4169-a27b-0aca52f2538e\">\n",
              "    <div class=\"colab-df-container\">\n",
              "      <div>\n",
              "<style scoped>\n",
              "    .dataframe tbody tr th:only-of-type {\n",
              "        vertical-align: middle;\n",
              "    }\n",
              "\n",
              "    .dataframe tbody tr th {\n",
              "        vertical-align: top;\n",
              "    }\n",
              "\n",
              "    .dataframe thead th {\n",
              "        text-align: right;\n",
              "    }\n",
              "</style>\n",
              "<table border=\"1\" class=\"dataframe\">\n",
              "  <thead>\n",
              "    <tr style=\"text-align: right;\">\n",
              "      <th></th>\n",
              "      <th>date</th>\n",
              "      <th>store_nbr</th>\n",
              "      <th>transactions</th>\n",
              "    </tr>\n",
              "  </thead>\n",
              "  <tbody>\n",
              "    <tr>\n",
              "      <th>0</th>\n",
              "      <td>2013-01-01</td>\n",
              "      <td>25</td>\n",
              "      <td>770</td>\n",
              "    </tr>\n",
              "    <tr>\n",
              "      <th>1</th>\n",
              "      <td>2013-01-02</td>\n",
              "      <td>1</td>\n",
              "      <td>2111</td>\n",
              "    </tr>\n",
              "    <tr>\n",
              "      <th>2</th>\n",
              "      <td>2013-01-02</td>\n",
              "      <td>2</td>\n",
              "      <td>2358</td>\n",
              "    </tr>\n",
              "    <tr>\n",
              "      <th>3</th>\n",
              "      <td>2013-01-02</td>\n",
              "      <td>3</td>\n",
              "      <td>3487</td>\n",
              "    </tr>\n",
              "    <tr>\n",
              "      <th>4</th>\n",
              "      <td>2013-01-02</td>\n",
              "      <td>4</td>\n",
              "      <td>1922</td>\n",
              "    </tr>\n",
              "  </tbody>\n",
              "</table>\n",
              "</div>\n",
              "      <button class=\"colab-df-convert\" onclick=\"convertToInteractive('df-d4605ce2-e849-4169-a27b-0aca52f2538e')\"\n",
              "              title=\"Convert this dataframe to an interactive table.\"\n",
              "              style=\"display:none;\">\n",
              "        \n",
              "  <svg xmlns=\"http://www.w3.org/2000/svg\" height=\"24px\"viewBox=\"0 0 24 24\"\n",
              "       width=\"24px\">\n",
              "    <path d=\"M0 0h24v24H0V0z\" fill=\"none\"/>\n",
              "    <path d=\"M18.56 5.44l.94 2.06.94-2.06 2.06-.94-2.06-.94-.94-2.06-.94 2.06-2.06.94zm-11 1L8.5 8.5l.94-2.06 2.06-.94-2.06-.94L8.5 2.5l-.94 2.06-2.06.94zm10 10l.94 2.06.94-2.06 2.06-.94-2.06-.94-.94-2.06-.94 2.06-2.06.94z\"/><path d=\"M17.41 7.96l-1.37-1.37c-.4-.4-.92-.59-1.43-.59-.52 0-1.04.2-1.43.59L10.3 9.45l-7.72 7.72c-.78.78-.78 2.05 0 2.83L4 21.41c.39.39.9.59 1.41.59.51 0 1.02-.2 1.41-.59l7.78-7.78 2.81-2.81c.8-.78.8-2.07 0-2.86zM5.41 20L4 18.59l7.72-7.72 1.47 1.35L5.41 20z\"/>\n",
              "  </svg>\n",
              "      </button>\n",
              "      \n",
              "  <style>\n",
              "    .colab-df-container {\n",
              "      display:flex;\n",
              "      flex-wrap:wrap;\n",
              "      gap: 12px;\n",
              "    }\n",
              "\n",
              "    .colab-df-convert {\n",
              "      background-color: #E8F0FE;\n",
              "      border: none;\n",
              "      border-radius: 50%;\n",
              "      cursor: pointer;\n",
              "      display: none;\n",
              "      fill: #1967D2;\n",
              "      height: 32px;\n",
              "      padding: 0 0 0 0;\n",
              "      width: 32px;\n",
              "    }\n",
              "\n",
              "    .colab-df-convert:hover {\n",
              "      background-color: #E2EBFA;\n",
              "      box-shadow: 0px 1px 2px rgba(60, 64, 67, 0.3), 0px 1px 3px 1px rgba(60, 64, 67, 0.15);\n",
              "      fill: #174EA6;\n",
              "    }\n",
              "\n",
              "    [theme=dark] .colab-df-convert {\n",
              "      background-color: #3B4455;\n",
              "      fill: #D2E3FC;\n",
              "    }\n",
              "\n",
              "    [theme=dark] .colab-df-convert:hover {\n",
              "      background-color: #434B5C;\n",
              "      box-shadow: 0px 1px 3px 1px rgba(0, 0, 0, 0.15);\n",
              "      filter: drop-shadow(0px 1px 2px rgba(0, 0, 0, 0.3));\n",
              "      fill: #FFFFFF;\n",
              "    }\n",
              "  </style>\n",
              "\n",
              "      <script>\n",
              "        const buttonEl =\n",
              "          document.querySelector('#df-d4605ce2-e849-4169-a27b-0aca52f2538e button.colab-df-convert');\n",
              "        buttonEl.style.display =\n",
              "          google.colab.kernel.accessAllowed ? 'block' : 'none';\n",
              "\n",
              "        async function convertToInteractive(key) {\n",
              "          const element = document.querySelector('#df-d4605ce2-e849-4169-a27b-0aca52f2538e');\n",
              "          const dataTable =\n",
              "            await google.colab.kernel.invokeFunction('convertToInteractive',\n",
              "                                                     [key], {});\n",
              "          if (!dataTable) return;\n",
              "\n",
              "          const docLinkHtml = 'Like what you see? Visit the ' +\n",
              "            '<a target=\"_blank\" href=https://colab.research.google.com/notebooks/data_table.ipynb>data table notebook</a>'\n",
              "            + ' to learn more about interactive tables.';\n",
              "          element.innerHTML = '';\n",
              "          dataTable['output_type'] = 'display_data';\n",
              "          await google.colab.output.renderOutput(dataTable, element);\n",
              "          const docLink = document.createElement('div');\n",
              "          docLink.innerHTML = docLinkHtml;\n",
              "          element.appendChild(docLink);\n",
              "        }\n",
              "      </script>\n",
              "    </div>\n",
              "  </div>\n",
              "  "
            ]
          },
          "metadata": {},
          "execution_count": 128
        }
      ],
      "source": [
        "transactionsdf.head()"
      ]
    },
    {
      "cell_type": "code",
      "execution_count": 129,
      "metadata": {
        "id": "pN2MJ8W6J2hI"
      },
      "outputs": [],
      "source": [
        "def converttonumber(col, df):\n",
        "    colvalues = df[col].value_counts()\n",
        "    colvaluelist = colvalues.index\n",
        "    colvaluesseries = pd.Series(colvaluelist)\n",
        "    print(colvaluesseries)\n",
        "    \n",
        "    for ivalue in range(0,len(colvaluesseries)):\n",
        "        df[col].replace(colvaluesseries[ivalue], colvaluesseries[colvaluesseries == colvaluesseries[ivalue]].index[0], inplace=True)\n",
        "    return df\n",
        "    "
      ]
    },
    {
      "cell_type": "code",
      "execution_count": 130,
      "metadata": {
        "colab": {
          "base_uri": "https://localhost:8080/",
          "height": 482
        },
        "id": "uEnM7YDBWqCb",
        "outputId": "4166f5d9-3809-4ee0-f96e-7a522d2d1c12"
      },
      "outputs": [
        {
          "output_type": "execute_result",
          "data": {
            "text/plain": [
              "<Axes: xlabel='store_nbr'>"
            ]
          },
          "metadata": {},
          "execution_count": 130
        },
        {
          "output_type": "display_data",
          "data": {
            "text/plain": [
              "<Figure size 1000x500 with 1 Axes>"
            ],
            "image/png": "[encoded data removed]"
          },
          "metadata": {}
        }
      ],
      "source": [
        "\n",
        "transactionsdf.plot(figsize=(10,5),x='store_nbr',y='transactions')"
      ]
    },
    {
      "cell_type": "code",
      "execution_count": 131,
      "metadata": {
        "id": "CJ1XanwtdcbP"
      },
      "outputs": [],
      "source": [
        "oildf.rename(columns={'dcoilwtico':'oil_price'},inplace=True)"
      ]
    },
    {
      "cell_type": "code",
      "execution_count": null,
      "metadata": {
        "id": "Gfd6scMCI8_k"
      },
      "outputs": [],
      "source": [
        "mastertraindf = pd.merge(traindf, holidaysdf, on='date', how='left')\n",
        "mastertraindf = pd.merge(mastertraindf, oildf, on='date', how='left')\n",
        "mastertraindf = pd.merge(mastertraindf, storedf, on='store_nbr', how='left')\n",
        "mastertraindf = pd.merge(mastertraindf, transactionsdf, on=['store_nbr', 'date'], how='left')\n",
        "mastertraindf.rename(columns={'type_x':'holidaytype', 'type_y':'storetype'}, inplace=True)\n",
        "mastertraindf['holidaytype'].fillna('No', inplace=True)\n",
        "mastertraindf['test'] = 0\n",
        "mastertraindf.head()\n"
      ]
    },
    {
      "cell_type": "code",
      "execution_count": null,
      "metadata": {
        "id": "8nc_iRfSd_0b"
      },
      "outputs": [],
      "source": [
        "mastertestdf = pd.merge(testdf, holidaysdf, on='date', how='left')\n",
        "mastertestdf = pd.merge(mastertestdf, oildf, on='date', how='left')\n",
        "mastertestdf = pd.merge(mastertestdf, storedf, on='store_nbr', how='left')\n",
        "mastertestdf = pd.merge(mastertestdf, transactionsdf, on=['store_nbr', 'date'], how='left')"
      ]
    },
    {
      "cell_type": "code",
      "execution_count": null,
      "metadata": {
        "id": "2URu5S6jNABe"
      },
      "outputs": [],
      "source": [
        "\n",
        "\n",
        "oildf['oil_price'].fillna(method='bfill', inplace=True)\n",
        "oildf['date']=pd.to_datetime(oildf['date'])\n",
        "oildf['dayofweek']=oildf['date'].dt.weekday\n",
        "oildf.head()\n"
      ]
    },
    {
      "cell_type": "code",
      "execution_count": null,
      "metadata": {
        "id": "RvNQZoTCNhJ0"
      },
      "outputs": [],
      "source": [
        "oildf.plot(figsize=(10,5),title='oil_prices',x='date',y='oil_price',xlabel='year')"
      ]
    },
    {
      "cell_type": "code",
      "execution_count": null,
      "metadata": {
        "id": "HwMgpd_hRQXq"
      },
      "outputs": [],
      "source": [
        "dayofweek=oildf['dayofweek'].unique()\n",
        "\n",
        "week=['Monday','Tuesday','Wednesday','Thursday','Friday','Saturday','Sunday']\n",
        "dayofweek.sort()\n"
      ]
    },
    {
      "cell_type": "code",
      "execution_count": null,
      "metadata": {
        "id": "rIDrr4LARc4M"
      },
      "outputs": [],
      "source": [
        "for i in dayofweek:\n",
        "  oildf.loc[oildf['dayofweek']==i].plot(y='oil_price',x='date',figsize=(10,5))\n",
        "  plt.title(week[i],fontsize=15)\n",
        "  plt.xlabel('date')\n",
        "  plt.ylabel('oil prices')"
      ]
    },
    {
      "cell_type": "code",
      "execution_count": null,
      "metadata": {
        "id": "k53Q3EDIZrzz"
      },
      "outputs": [],
      "source": [
        "oildf.drop(['dayofweek'],inplace=True,axis=1)\n",
        "oildf.head()"
      ]
    },
    {
      "cell_type": "code",
      "execution_count": null,
      "metadata": {
        "id": "Woj84e9RI-M6"
      },
      "outputs": [],
      "source": [
        "f = plt.figure(figsize=(10, 10))\n",
        "plt.matshow(mastertraindf.corr(), fignum=f.number)\n",
        "plt.xticks(range(mastertraindf.select_dtypes(['number']).shape[1]), mastertraindf.select_dtypes(['number']).columns, fontsize=14, rotation=45)\n",
        "plt.yticks(range(mastertraindf.select_dtypes(['number']).shape[1]), mastertraindf.select_dtypes(['number']).columns, fontsize=14)\n",
        "cb = plt.colorbar()\n",
        "cb.ax.tick_params(labelsize=14)\n",
        "plt.title('Correlation Matrix', fontsize=16);\n"
      ]
    },
    {
      "cell_type": "code",
      "execution_count": null,
      "metadata": {
        "id": "ja0VNceCJBjE"
      },
      "outputs": [],
      "source": [
        "mastertraindf.drop(['id','locale', 'description', 'transferred', 'locale_name','cluster','city','state','storetype','test'], inplace=True, axis=1)\n",
        "mastertraindf.head(-5)\n"
      ]
    },
    {
      "cell_type": "code",
      "execution_count": null,
      "metadata": {
        "id": "fJ1HZhIVJFlz"
      },
      "outputs": [],
      "source": [
        "Rep = mastertraindf.pivot_table(index = ['store_nbr'], aggfunc ='size', sort = 'True')\n",
        "print(len(Rep))\n",
        "print(sorted(Rep,reverse=True))"
      ]
    },
    {
      "cell_type": "code",
      "execution_count": null,
      "metadata": {
        "id": "kayqkW74JKxc"
      },
      "outputs": [],
      "source": [
        "#mastertraindf.rename(columns={'dcoilwtico':'oil_price'},inplace=True)\n",
        "mastertraindf['oil_price'].fillna(method='bfill', inplace=True)\n",
        "#mastertraindf['oil_price'].fillna(mastertraindf['oil_price'].mean(), inplace=True)\n",
        "\n",
        "\n",
        "mastertraindf['holidaytype'].fillna('No', inplace=True)\n",
        "mastertraindf['transactions'].fillna(0, inplace=True)\n",
        "\n",
        "mastertraindf.head()"
      ]
    },
    {
      "cell_type": "code",
      "execution_count": null,
      "metadata": {
        "id": "jKfZUvIkJMNY"
      },
      "outputs": [],
      "source": [
        "Rep = mastertraindf.pivot_table(index = ['family'], aggfunc ='size')\n",
        "print(Rep)\n",
        "\n",
        "family_dict = {}\n",
        "j = 0\n",
        "for i in Rep.index:\n",
        "  if(i not in family_dict):\n",
        "    family_dict[i]=j\n",
        "    j+=1\n",
        "\n",
        "family_dict"
      ]
    },
    {
      "cell_type": "code",
      "execution_count": null,
      "metadata": {
        "id": "5txATWsbJPKY"
      },
      "outputs": [],
      "source": [
        "Rep = mastertraindf.pivot_table(index = ['holidaytype'], aggfunc ='size', sort = 'True')\n",
        "print(Rep)\n",
        "print(Rep.sort_values(ascending = False))\n",
        "\n",
        "Holiday_dict = {}\n",
        "j = 0\n",
        "for i in Rep.sort_values(ascending = False).index:\n",
        "  if(i not in Holiday_dict):\n",
        "    Holiday_dict[i]=j\n",
        "    j+=1\n",
        "    \n",
        "Holiday_dict\n"
      ]
    },
    {
      "cell_type": "code",
      "execution_count": null,
      "metadata": {
        "id": "yyqgnPZtJQ4O"
      },
      "outputs": [],
      "source": [
        "mastertraindf = converttonumber('holidaytype', mastertraindf)\n",
        "mastertraindf = converttonumber('family', mastertraindf)\n",
        "#mastertraindf = converttonumber('storetype', mastertraindf)"
      ]
    },
    {
      "cell_type": "code",
      "execution_count": null,
      "metadata": {
        "id": "rxhVuajIZIvb"
      },
      "outputs": [],
      "source": [
        "mastertraindf.plot(figsize=(10,5),title='date-sales',x='date',y='sales',xlabel='year')"
      ]
    },
    {
      "cell_type": "code",
      "execution_count": null,
      "metadata": {
        "id": "aCvVYyvEZa1o"
      },
      "outputs": [],
      "source": [
        "#mastertraindf['date'] = mastertraindf['date'].str.replace('-','')"
      ]
    },
    {
      "cell_type": "code",
      "execution_count": null,
      "metadata": {
        "id": "tmuvEdivJS-C"
      },
      "outputs": [],
      "source": [
        "mastertraindf.head(-10)"
      ]
    },
    {
      "cell_type": "code",
      "execution_count": null,
      "metadata": {
        "id": "qk8bO7dboPk8"
      },
      "outputs": [],
      "source": [
        "train1=pd.DataFrame(mastertraindf['date'],columns=['date'])"
      ]
    },
    {
      "cell_type": "code",
      "execution_count": null,
      "metadata": {
        "id": "3wG62H4DodLK"
      },
      "outputs": [],
      "source": [
        "mastertraindf['date']=pd.to_datetime(mastertraindf['date'])\n",
        "mastertraindf['dayofweek']=mastertraindf['date'].dt.weekday"
      ]
    },
    {
      "cell_type": "code",
      "execution_count": null,
      "metadata": {
        "id": "GNqdO54TJUwb"
      },
      "outputs": [],
      "source": [
        "\n",
        "mastertestdf.rename(columns={'type_x':'holidaytype', 'type_y':'storetype'}, inplace=True)\n",
        "mastertestdf.drop(['id', 'locale','locale_name','description', 'storetype','city', 'state', 'cluster'], inplace=True, axis=1)\n",
        "mastertestdf['test'] = 1\n",
        "\n",
        "## Feature setup\n",
        "#mastertestdf.rename(columns={'dcoilwtico':'oil_price'},inplace=True)\n",
        "mastertestdf['oil_price'].fillna(method='bfill', inplace=True)\n",
        "#mastertestdf['oil_price'].fillna(mastertestdf['oil_price'].mean(), inplace=True)\n",
        "mastertestdf['holidaytype'].fillna('No', inplace=True)\n",
        "mastertestdf['transactions'].fillna(0, inplace=True)\n",
        "\n",
        "#mastertestdf['date'] = mastertestdf['date'].str.replace('-','')\n",
        "mastertestdf.head()"
      ]
    },
    {
      "cell_type": "code",
      "execution_count": null,
      "metadata": {
        "id": "sVRXYRpTJWQv"
      },
      "outputs": [],
      "source": [
        "mastertestdf = converttonumber('holidaytype', mastertestdf)\n",
        "mastertestdf = converttonumber('family', mastertestdf)\n",
        "#mastertestdf = converttonumber('storetype', mastertraindf)"
      ]
    },
    {
      "cell_type": "code",
      "execution_count": null,
      "metadata": {
        "id": "alUFDLjtJYzF"
      },
      "outputs": [],
      "source": [
        "#mastertraindf.drop(['storetype'], inplace=True)\n",
        "#mastertestdf.drop(['storetype'], inplace=True, axis=1)\n",
        "mastertestdf.head()"
      ]
    },
    {
      "cell_type": "code",
      "execution_count": null,
      "metadata": {
        "id": "g6elTY7yn8YJ"
      },
      "outputs": [],
      "source": [
        "test1=pd.DataFrame(mastertestdf['date'],columns=['date'])"
      ]
    },
    {
      "cell_type": "code",
      "execution_count": null,
      "metadata": {
        "id": "152TvSjRoxFD"
      },
      "outputs": [],
      "source": [
        "mastertestdf['date']=pd.to_datetime(mastertestdf['date'])\n",
        "mastertestdf['dayofweek']=mastertestdf['date'].dt.weekday"
      ]
    },
    {
      "cell_type": "code",
      "execution_count": null,
      "metadata": {
        "id": "XDm19yiHJciR"
      },
      "outputs": [],
      "source": [
        "from sklearn.model_selection import train_test_split\n",
        "\n",
        "from sklearn.preprocessing import PolynomialFeatures\n",
        "from sklearn.metrics import mean_squared_error,r2_score,mean_absolute_error,mean_squared_log_error\n",
        "\n",
        "X = mastertraindf[['dayofweek', 'store_nbr', 'family', 'onpromotion', 'holidaytype', 'oil_price', 'transactions']]\n",
        "y = mastertraindf['sales']\n",
        "X_predict = mastertestdf[['dayofweek', 'store_nbr', 'family', 'onpromotion', 'holidaytype', 'oil_price', 'transactions']]\n",
        "# There are no sales values available for X_predict data, its given to test out our model if it predicts accurate results\n",
        "\n",
        "X_train,X_test,y_train,y_test = train_test_split(X,y,test_size = 0.2)"
      ]
    },
    {
      "cell_type": "code",
      "source": [
        "def root_mean_squared_log_error(real, predicted):\n",
        "    \n",
        "    sum=0.0\n",
        "    for x in range(len(predicted)):\n",
        "        \n",
        "        if predicted[x]<0 or real[x]<0: # check for negative values\n",
        "            continue\n",
        "        p = np.log(predicted[x]+1)\n",
        "        r = np.log(real[x]+1)\n",
        "        sum = sum + (p - r)**2\n",
        "    return (sum/len(predicted))**0.5"
      ],
      "metadata": {
        "id": "_skUgYDZfptO"
      },
      "execution_count": null,
      "outputs": []
    },
    {
      "cell_type": "code",
      "execution_count": null,
      "metadata": {
        "id": "xHia8WhBLI8s"
      },
      "outputs": [],
      "source": [
        "from sklearn.linear_model import LinearRegression\n",
        "linear=LinearRegression()\n"
      ]
    },
    {
      "cell_type": "code",
      "execution_count": null,
      "metadata": {
        "id": "vuPyAMs0LP4D"
      },
      "outputs": [],
      "source": [
        "linear.fit(X_train,y_train)\n",
        "y_pred=linear.predict(X_test)"
      ]
    },
    {
      "cell_type": "code",
      "source": [
        "print('LINEAR MODEL')\n",
        "print('MAE',   mean_absolute_error(y_pred,y_test))\n",
        "print('RMSE',np.sqrt(mean_squared_error(y_pred,y_test)))\n",
        "print('RMSLE',root_mean_squared_log_error(np.array(y_test),y_pred)  )      "
      ],
      "metadata": {
        "id": "2PNaK9Htimpj"
      },
      "execution_count": null,
      "outputs": []
    },
    {
      "cell_type": "code",
      "execution_count": null,
      "metadata": {
        "id": "Js7vTa44Lum1"
      },
      "outputs": [],
      "source": [
        "linearaccuracy=int(round(r2_score(np.array(y_test),y_pred),2)*100)"
      ]
    },
    {
      "cell_type": "code",
      "source": [
        "# import matplotlib.pyplot as plt\n",
        "# plt.plot(X_test.iloc[:,0], y_test, color ='red',linestyle='none')\n",
        "# plt.plot(X_test.iloc[:,0], y_pred, color ='b',linestyle='none')\n",
        "  \n",
        "# plt.show()"
      ],
      "metadata": {
        "id": "guEZYCAFsYB0"
      },
      "execution_count": null,
      "outputs": []
    },
    {
      "cell_type": "code",
      "source": [
        "y_pred.shape\n"
      ],
      "metadata": {
        "id": "MJzeK1iVstM8"
      },
      "execution_count": null,
      "outputs": []
    },
    {
      "cell_type": "code",
      "source": [
        "# linear.score(predicted,y_test)"
      ],
      "metadata": {
        "id": "Oe82tgmjXu5O"
      },
      "execution_count": null,
      "outputs": []
    },
    {
      "cell_type": "code",
      "execution_count": null,
      "metadata": {
        "id": "0wNdc17M2qGt"
      },
      "outputs": [],
      "source": [
        "#linear_error=mean_squared_log_error(predicted, y_test)"
      ]
    },
    {
      "cell_type": "code",
      "execution_count": null,
      "metadata": {
        "id": "cPzGSN3VBfR6"
      },
      "outputs": [],
      "source": [
        "from sklearn.linear_model import Lasso \n",
        "lasso=Lasso(alpha=0.00001)\n",
        "lasso.fit(X_train,y_train)"
      ]
    },
    {
      "cell_type": "code",
      "source": [
        "y_pred=lasso.predict(X_test)"
      ],
      "metadata": {
        "id": "uIZDYqMIh68k"
      },
      "execution_count": null,
      "outputs": []
    },
    {
      "cell_type": "code",
      "source": [
        "print('LASSO MODEL')\n",
        "print('MAE',   mean_absolute_error(y_pred,y_test))\n",
        "print('RMSE',np.sqrt(mean_squared_error(y_pred,y_test)))\n",
        "print('RMSLE',root_mean_squared_log_error(np.array(y_test),y_pred)  )      "
      ],
      "metadata": {
        "id": "Pw1QWbPCh_9f"
      },
      "execution_count": null,
      "outputs": []
    },
    {
      "cell_type": "code",
      "source": [
        "# lasso.score(y_pred,y_test)"
      ],
      "metadata": {
        "id": "yQO4GuylXZfB"
      },
      "execution_count": null,
      "outputs": []
    },
    {
      "cell_type": "code",
      "source": [
        "lassoaccuracy=int(round(r2_score(np.array(y_test),y_pred),2)*100)\n",
        "lassoaccuracy"
      ],
      "metadata": {
        "id": "K71MIFU1bXRG"
      },
      "execution_count": null,
      "outputs": []
    },
    {
      "cell_type": "code",
      "execution_count": null,
      "metadata": {
        "id": "9C0TH5niCD8S"
      },
      "outputs": [],
      "source": [
        "pred_lasso=lasso.predict(X_test) \n",
        "error=mean_squared_error(y_test,pred_lasso)\n",
        "error"
      ]
    },
    {
      "cell_type": "code",
      "execution_count": null,
      "metadata": {
        "id": "H0lEz0BQCuF7"
      },
      "outputs": [],
      "source": [
        "from sklearn.linear_model import Ridge\n",
        "ridge=Ridge(alpha=1)\n",
        "ridge.fit(X_train,y_train)"
      ]
    },
    {
      "cell_type": "code",
      "source": [
        "ridge.score(X_test,y_test)"
      ],
      "metadata": {
        "id": "ZxHErXm-Xf0L"
      },
      "execution_count": null,
      "outputs": []
    },
    {
      "cell_type": "code",
      "execution_count": null,
      "metadata": {
        "id": "U8N-gvTsC4pD"
      },
      "outputs": [],
      "source": [
        "y_pred=ridge.predict(X_test)\n",
        "error=mean_squared_error(y_pred,y_test)\n",
        "error"
      ]
    },
    {
      "cell_type": "code",
      "source": [
        "print('RIDGE MODEL')\n",
        "print('MAE',   mean_absolute_error(y_pred,y_test))\n",
        "print('RMSE',np.sqrt(mean_squared_error(y_pred,y_test)))\n",
        "print('RMSLE',root_mean_squared_log_error(np.array(y_test),y_pred)  )      "
      ],
      "metadata": {
        "id": "fvH5wtKUi21U"
      },
      "execution_count": null,
      "outputs": []
    },
    {
      "cell_type": "code",
      "source": [
        "ridgeaccuracy=int(round(r2_score(np.array(y_test),y_pred),2)*100)"
      ],
      "metadata": {
        "id": "LASawOiUsMGO"
      },
      "execution_count": null,
      "outputs": []
    },
    {
      "cell_type": "code",
      "execution_count": null,
      "metadata": {
        "id": "TYwDoKkLJeIT"
      },
      "outputs": [],
      "source": [
        "from sklearn.ensemble import RandomForestRegressor\n",
        "RFR = RandomForestRegressor(n_estimators = 10)\n",
        "RFR.fit(X_train,y_train)\n"
      ]
    },
    {
      "cell_type": "code",
      "source": [
        "RFR.score(X_test,y_test)"
      ],
      "metadata": {
        "id": "qTYryo8lXlyG"
      },
      "execution_count": null,
      "outputs": []
    },
    {
      "cell_type": "code",
      "execution_count": null,
      "metadata": {
        "id": "j9hBeQsCh5hS"
      },
      "outputs": [],
      "source": [
        "y_pred=RFR.predict(X_test)"
      ]
    },
    {
      "cell_type": "code",
      "source": [
        "print('RANDOM FOREST MODEL')\n",
        "print('MAE',   mean_absolute_error(y_pred,y_test))\n",
        "print('RMSE',np.sqrt(mean_squared_error(y_pred,y_test)))\n",
        "print('RMSLE',root_mean_squared_log_error(np.array(y_test),y_pred)  )      "
      ],
      "metadata": {
        "id": "3hn7ifdji-17"
      },
      "execution_count": null,
      "outputs": []
    },
    {
      "cell_type": "code",
      "source": [
        "rfaccuracy=int(round(r2_score(np.array(y_test),y_pred),2)*100)\n",
        "rfaccuracy"
      ],
      "metadata": {
        "id": "1I86S1JWn_4k"
      },
      "execution_count": null,
      "outputs": []
    },
    {
      "cell_type": "code",
      "execution_count": null,
      "metadata": {
        "id": "hPKkM46VJhjD"
      },
      "outputs": [],
      "source": [
        "y_test.head()"
      ]
    },
    {
      "cell_type": "code",
      "source": [
        "from xgboost import XGBRegressor\n",
        "model = XGBRegressor(n_estimators=10, max_depth=10)\n",
        "model.fit(X_train, y_train)\n",
        "y_pred = model.predict(X_test)\n"
      ],
      "metadata": {
        "id": "gVhq6t9AXHOl"
      },
      "execution_count": null,
      "outputs": []
    },
    {
      "cell_type": "code",
      "source": [
        "print('XGBOOST MODEL')\n",
        "print('MAE',   mean_absolute_error(y_pred,y_test))\n",
        "print('RMSE',np.sqrt(mean_squared_error(y_pred,y_test)))\n",
        "print('RMSLE',root_mean_squared_log_error(np.array(y_test),y_pred)  )      "
      ],
      "metadata": {
        "id": "jHRQJs5Tjamy"
      },
      "execution_count": null,
      "outputs": []
    },
    {
      "cell_type": "code",
      "source": [
        "xgboostaccuracy=int(round(r2_score(np.array(y_test),y_pred),2)*100)\n",
        "xgboostaccuracy"
      ],
      "metadata": {
        "id": "5cstUTsgkH0l"
      },
      "execution_count": null,
      "outputs": []
    },
    {
      "cell_type": "code",
      "source": [
        "graph_x=['linear','lasso','ridge','random forest','xgboost']\n",
        "graph_y=[linearaccuracy,lassoaccuracy,ridgeaccuracy,rfaccuracy,xgboostaccuracy]\n",
        "plt.bar(graph_x,graph_y)\n",
        "plt.show()"
      ],
      "metadata": {
        "id": "y8tGQM42xP65"
      },
      "execution_count": null,
      "outputs": []
    },
    {
      "cell_type": "code",
      "execution_count": null,
      "metadata": {
        "id": "-8LxtFLpJk21"
      },
      "outputs": [],
      "source": [
        "# from sklearn.metrics import mean_squared_error\n",
        "# mean_squared_error(y_pred, y_test, squared=False)\n",
        "\n",
        "regression_error=mean_squared_error(y_pred, y_test)\n",
        "regression_error"
      ]
    },
    {
      "cell_type": "code",
      "execution_count": null,
      "metadata": {
        "id": "PAV4LsmChwBf"
      },
      "outputs": [],
      "source": [
        "X_predict.head()"
      ]
    },
    {
      "cell_type": "code",
      "execution_count": null,
      "metadata": {
        "id": "c8jIiIb5AJav"
      },
      "outputs": [],
      "source": [
        "X_predict.shape"
      ]
    },
    {
      "cell_type": "code",
      "execution_count": null,
      "metadata": {
        "id": "qvud_4aOJjGZ"
      },
      "outputs": [],
      "source": [
        "y_pred = pd.DataFrame({'sales':RFR.predict(X_predict)})\n",
        "y_pred.head()"
      ]
    },
    {
      "cell_type": "code",
      "execution_count": null,
      "metadata": {
        "id": "iLhsqW7yAL9c"
      },
      "outputs": [],
      "source": [
        "y_pred.shape \n"
      ]
    },
    {
      "cell_type": "code",
      "execution_count": null,
      "metadata": {
        "id": "qbKEg5_gNKu9"
      },
      "outputs": [],
      "source": []
    },
    {
      "cell_type": "code",
      "execution_count": null,
      "metadata": {
        "id": "tjY-GLv5AO9o"
      },
      "outputs": [],
      "source": [
        "import joblib \n",
        "joblib.dump(RFR,'model.h5')"
      ]
    },
    {
      "cell_type": "code",
      "execution_count": null,
      "metadata": {
        "id": "7ORqFqGskzAP"
      },
      "outputs": [],
      "source": [
        "mastertraindf.head()"
      ]
    },
    {
      "cell_type": "code",
      "execution_count": null,
      "metadata": {
        "id": "vdxgB5W_u1XD"
      },
      "outputs": [],
      "source": [
        "actualdata=mastertraindf.groupby('date')['sales'].sum()\n",
        "actualdata.head(-10)"
      ]
    },
    {
      "cell_type": "code",
      "execution_count": null,
      "metadata": {
        "id": "xb56y2X7urnU"
      },
      "outputs": [],
      "source": [
        "actualdata.plot(figsize=(10,5),title='date-sales',x='date',y='sales',xlabel='year')"
      ]
    },
    {
      "cell_type": "code",
      "execution_count": null,
      "metadata": {
        "id": "KCTKS-w9pBEF"
      },
      "outputs": [],
      "source": [
        "y_pred=pd.concat([y_pred,test1],axis=1)\n",
        "y_pred.head()"
      ]
    },
    {
      "cell_type": "code",
      "execution_count": null,
      "metadata": {
        "id": "MtdfNnLZspLU"
      },
      "outputs": [],
      "source": [
        "y_pred.shape"
      ]
    },
    {
      "cell_type": "code",
      "execution_count": null,
      "metadata": {
        "id": "kMQUuIXqsBBW"
      },
      "outputs": [],
      "source": [
        "y_pred.head()"
      ]
    },
    {
      "cell_type": "code",
      "execution_count": null,
      "metadata": {
        "id": "W6C3MEr7Pk6q"
      },
      "outputs": [],
      "source": [
        "# y_pred.to_csv('test2.csv')"
      ]
    },
    {
      "cell_type": "code",
      "execution_count": null,
      "metadata": {
        "id": "sG0TazT_PqYo"
      },
      "outputs": [],
      "source": [
        "y_pred.head()"
      ]
    },
    {
      "cell_type": "code",
      "execution_count": null,
      "metadata": {
        "id": "j3wfQPKyjuvT"
      },
      "outputs": [],
      "source": [
        "forecasted_data=y_pred.groupby('date')['sales'].sum()\n",
        "forecasted_data.head()"
      ]
    },
    {
      "cell_type": "code",
      "execution_count": null,
      "metadata": {
        "id": "ZxyyzAK8sTS5"
      },
      "outputs": [],
      "source": [
        "forecasted_data.shape"
      ]
    },
    {
      "cell_type": "code",
      "execution_count": null,
      "metadata": {
        "id": "jq9ElPKFude4"
      },
      "outputs": [],
      "source": [
        "forecasted_data.plot(figsize=(10,5),title='date-sales',x='date',y='sales',xlabel='year')"
      ]
    },
    {
      "cell_type": "code",
      "execution_count": null,
      "metadata": {
        "id": "gCQDg5KybvYg"
      },
      "outputs": [],
      "source": [
        "mastertraindf.head()"
      ]
    },
    {
      "cell_type": "code",
      "execution_count": null,
      "metadata": {
        "id": "qmXWNXQ0d1mw"
      },
      "outputs": [],
      "source": [
        "df=mastertraindf\n",
        "df1=mastertestdf"
      ]
    },
    {
      "cell_type": "code",
      "execution_count": null,
      "metadata": {
        "id": "UcncUPBab3yW"
      },
      "outputs": [],
      "source": [
        "# # store1train=df[df['store_nbr']==10]\n",
        "\n",
        "# # store1train=store1train[(store1train['family']==1)]\n",
        "# store1train=df[(df['date']>='2016-01-01') & (df['date']<='2017-08-15')]\n",
        "\n",
        "# store1train.head()"
      ]
    },
    {
      "cell_type": "code",
      "execution_count": null,
      "metadata": {
        "id": "ZlL3stIJiJ-g"
      },
      "outputs": [],
      "source": [
        "# store1train.plot.bar(x='date',y='sales')"
      ]
    },
    {
      "cell_type": "code",
      "execution_count": null,
      "metadata": {
        "id": "t_UeHsA8aZ71"
      },
      "outputs": [],
      "source": [
        "# store1train.to_csv('train12.csv')\n",
        "X = mastertraindf[['dayofweek', 'store_nbr', 'family', 'onpromotion', 'holidaytype', 'oil_price', 'transactions']]\n"
      ]
    },
    {
      "cell_type": "code",
      "source": [
        "import calendar \n",
        "date='2023-03-20'\n",
        "year,month,day=(int(i) for i in date.split('-'))\n",
        "dayofweek=calendar.weekday(year,month,day)+1\n",
        "familydict={\n",
        "    'AUTOMOTIVE':0,\n",
        "    \"BEAUTY\":2,\n",
        "    'BOOKS':4,\n",
        "    'HARDWARE':14,\n",
        "    'MAGAZINES':23,\n",
        "    'PET SUPPLIES':26,\n",
        "    'ELECTRONICS':27\n",
        "}\n",
        "\n",
        "if dayofweek>5:\n",
        "  holiday=1 \n",
        "else:\n",
        "  holiday=5 \n",
        "store_nbr=17 \n",
        "promotion=17 \n",
        "oil_price=540\n",
        "transactions=54\n",
        "RFR.predict([[dayofweek,store_nbr,familydict['AUTOMOTIVE'],promotion,holiday,oil_price,transactions]])"
      ],
      "metadata": {
        "id": "TClGVsHNU-QK"
      },
      "execution_count": null,
      "outputs": []
    }
  ],
  "metadata": {
    "colab": {
      "provenance": []
    },
    "gpuClass": "standard",
    "kernelspec": {
      "display_name": "Python 3",
      "name": "python3"
    },
    "language_info": {
      "name": "python"
    }
  },
  "nbformat": 4,
  "nbformat_minor": 0
}